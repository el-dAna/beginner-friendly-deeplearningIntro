{
  "nbformat": 4,
  "nbformat_minor": 0,
  "metadata": {
    "colab": {
      "name": "SignalProcessingLabPresentation.ipynb",
      "provenance": [],
      "collapsed_sections": [],
      "authorship_tag": "ABX9TyPY/Vvohf6Ha4O8mJQP0cGu",
      "include_colab_link": true
    },
    "kernelspec": {
      "name": "python3",
      "display_name": "Python 3"
    },
    "language_info": {
      "name": "python"
    }
  },
  "cells": [
    {
      "cell_type": "markdown",
      "metadata": {
        "id": "view-in-github",
        "colab_type": "text"
      },
      "source": [
        "<a href=\"https://colab.research.google.com/github/el-dAna/beginner-friendly-deeplearningIntro/blob/main/SignalProcessingLabPresentation.ipynb\" target=\"_parent\"><img src=\"https://colab.research.google.com/assets/colab-badge.svg\" alt=\"Open In Colab\"/></a>"
      ]
    },
    {
      "cell_type": "code",
      "execution_count": 1,
      "metadata": {
        "id": "AXUh3G_A3BZr"
      },
      "outputs": [],
      "source": [
        "# DEEP LEARNING PRESENTATION\n",
        "\"\"\"\n",
        "This is the code to illustrate the theoritical explanation at #https://www.mathcha.io/editor\n",
        "The main point to illustrate how the structure of a typical network works to my friends.\n",
        "I look forward to constructive inputs from the instructors as well.\n",
        "\n",
        "1. What is deep learning?\n",
        "\n",
        "How does it learn?\n",
        "2. Weight initialisation\n",
        "3. Dot produucts\n",
        "4. Activation functions\n",
        "\n",
        "5. Number of neurons (Site to illustrate other concepts )\n",
        "https://playground.tensorflow.org/#activation=tanh&batchSize=10&dataset=\n",
        "spiral&regDataset=reg-gauss&learningRate=0.03&regularizationRate=0&noise=\n",
        "0&networkShape=5,2,2&seed=0.27431&showTestData=false&discretize=false&percTrainData=\n",
        "50&x=true&y=true&xTimesY=true&xSquared=true&ySquared=true&cosX=false&sinX=true&cosY=false&sinY=\n",
        "true&collectStats=false&problem=regression&initZero=false&hideText=false\n",
        "\n",
        "6. Loss functions\n",
        "7. Back propagation\n",
        "\n",
        "8. Looping\n",
        "\"\"\"\n",
        "import numpy as np\n",
        "import matplotlib.pyplot as plt\n",
        "#https://www.mathcha.io/editor\n"
      ]
    },
    {
      "cell_type": "code",
      "source": [
        "# initialises a 3x3 weigths matrix with zeros\n",
        "W = np.zeros((3,3)) \n",
        "\n",
        "# initialises a 3x2 bias matrix with zeros\n",
        "b = np.zeros((3,2))\n",
        "\n",
        "# initialises a 3x3 input matrix\n",
        "x = np.array([0,3,1,4,2,5]).reshape(3,2)\n",
        "\n",
        "# initialises a 3x3 labels matrix\n",
        "y = np.array([3, 9, 5, 11, 7, 13]).reshape(3,2)\n",
        "\n",
        "# outputs formated matrices for better visualisation\n",
        "print(f'{W} \\n{x} \\n{b} \\n{y}')"
      ],
      "metadata": {
        "id": "NX-XklaFo4i7",
        "colab": {
          "base_uri": "https://localhost:8080/"
        },
        "outputId": "c49e56e9-4c9e-4fa4-f004-f59a006ac004"
      },
      "execution_count": 3,
      "outputs": [
        {
          "output_type": "stream",
          "name": "stdout",
          "text": [
            "[[0. 0. 0.]\n",
            " [0. 0. 0.]\n",
            " [0. 0. 0.]] \n",
            "[[0 3]\n",
            " [1 4]\n",
            " [2 5]] \n",
            "[[0. 0.]\n",
            " [0. 0.]\n",
            " [0. 0.]] \n",
            "[[ 3  9]\n",
            " [ 5 11]\n",
            " [ 7 13]]\n"
          ]
        }
      ]
    },
    {
      "cell_type": "code",
      "source": [
        "\n",
        "def compute_Z(W, x, b):\n",
        "  \"\"\"\n",
        "  This function returns the dot product of W and X added to b\n",
        "  Z = WX + b\n",
        "\n",
        "  W : numpy array of weights\n",
        "  x : numpy array of labels\n",
        "  b : numpy array with labels\n",
        "\n",
        "  returns Z: array-like\n",
        "  \"\"\"\n",
        "  # Z = WX + b\n",
        "  return np.dot(W, x) + b\n",
        "\n",
        "\n",
        "# calling compute_Z and putting in the arguments. Visit https://www.mathcha.io/editor for more visualisation.\n",
        "Z = compute_Z(W, x, b)\n",
        "print(Z)\n"
      ],
      "metadata": {
        "id": "ZJo5eflEZS1l",
        "colab": {
          "base_uri": "https://localhost:8080/"
        },
        "outputId": "acda5296-8997-491e-87d9-740b7f7bb142"
      },
      "execution_count": 5,
      "outputs": [
        {
          "output_type": "stream",
          "name": "stdout",
          "text": [
            "[[0. 0.]\n",
            " [0. 0.]\n",
            " [0. 0.]]\n"
          ]
        }
      ]
    },
    {
      "cell_type": "code",
      "source": [
        "def sigmoid(z):\n",
        "  return 1/(1+np.exp(-z))\n",
        "\n",
        "  \n",
        "\n",
        "prediction = sigmoid(Z)\n",
        "print(prediction)"
      ],
      "metadata": {
        "id": "XZEcsTzoaPKQ"
      },
      "execution_count": null,
      "outputs": []
    },
    {
      "cell_type": "code",
      "source": [
        "def MSE(y, y_hat):\n",
        "  return (np.sum(np.square(y-y_hat))) / 6\n",
        "\n",
        "  \n",
        "\n",
        "mse = MSE(y, prediction)\n",
        "print(mse)"
      ],
      "metadata": {
        "id": "sGu_nsKEahft"
      },
      "execution_count": null,
      "outputs": []
    },
    {
      "cell_type": "code",
      "source": [
        "def get_derivatives(y, y_hat, x):\n",
        "  dy_hat = np.multiply(np.multiply(-2, y_hat) , (y-y_hat))\n",
        "  dz = np.multiply(y_hat, (1-y_hat))\n",
        "  dLW = np.dot(dy_hat*dz, np.transpose(x))\n",
        "  dLb = dy_hat*dz\n",
        "  return dLW, dLb\n",
        "\n",
        "  \n",
        "\n",
        "dLW, dLb = get_derivatives(y, prediction, x)\n",
        "print(dLW)\n",
        "print(dLb)"
      ],
      "metadata": {
        "id": "BxaHwgkRbLl1"
      },
      "execution_count": null,
      "outputs": []
    },
    {
      "cell_type": "code",
      "source": [
        "def update_parameters(W, b, dLW, dLb, alpha):\n",
        "  updated_W = W - alpha*dLW\n",
        "  updated_b = b - alpha*dLb\n",
        "  return updated_W, updated_b\n",
        "\n",
        "  \n",
        "\n",
        "updated_W, updated_b = update_parameters(W, b, dLW, dLb, alpha = 0.01)\n",
        "print(updated_W)\n",
        "print(updated_b)"
      ],
      "metadata": {
        "id": "1zCvXWQHcc3g"
      },
      "execution_count": null,
      "outputs": []
    },
    {
      "cell_type": "code",
      "source": [
        "def logistic_regression(x,y,W, b, alpha):\n",
        "  temp_z = compute_Z(W, x, b) # Z = Wx + b\n",
        "  temp_pred = sigmoid(temp_z) # prediction = sigmoid_z(bla bla)\n",
        "  temp_error = MSE(y, temp_pred) # compute loss\n",
        "  dLW, dLb = get_derivatives(y, temp_pred, x) # get derivatives\n",
        "  return dLW, dLb, temp_error\n",
        "\n",
        "\n",
        "def Model(x,y,epoch,alpha):\n",
        "  W = np.zeros((3,3))\n",
        "  b = np.zeros((3,2))\n",
        "  pred_error = []\n",
        "  for i in range(epoch):\n",
        "    dLW, dLb, temp_pred_error = logistic_regression(x,y,W,b,alpha)\n",
        "    pred_error.append(temp_pred_error)\n",
        "    W, b = update_parameters(W, b, dLW, dLb, alpha)\n",
        "  return W,b,pred_error\n"
      ],
      "metadata": {
        "id": "jizxFm333HTY"
      },
      "execution_count": null,
      "outputs": []
    },
    {
      "cell_type": "code",
      "source": [
        "epoch = 10\n",
        "alpha = 0.01\n",
        "updated_W, updated_b, pred_error = Model(x, y, epoch, alpha)"
      ],
      "metadata": {
        "id": "6lQEv7se3KNe"
      },
      "execution_count": null,
      "outputs": []
    },
    {
      "cell_type": "code",
      "source": [
        "Range = np.arange(epoch)\n",
        "print(updated_W)\n",
        "plt.plot(Range, pred_error)"
      ],
      "metadata": {
        "id": "T-eIYgnk3KJy"
      },
      "execution_count": null,
      "outputs": []
    },
    {
      "cell_type": "code",
      "source": [
        "print(sigmoid(compute_Z(updated_W, x, updated_b)))\n",
        "print(y)"
      ],
      "metadata": {
        "id": "TFIFY5b7cEnT"
      },
      "execution_count": null,
      "outputs": []
    },
    {
      "cell_type": "code",
      "source": [
        "import tensorflow as tf\n",
        "from tensorflow.keras import layers\n",
        "from keras.models import Model, load_model\n",
        "model = tf.keras.models.Sequential()\n",
        "model.add(layers.Dense(units = 1, input_shape = [1]))\n",
        "model.compile(loss = 'mean_squared_error', optimizer = 'sgd')\n",
        "model.summary()"
      ],
      "metadata": {
        "id": "p8LwuTDZ3KHU"
      },
      "execution_count": null,
      "outputs": []
    },
    {
      "cell_type": "code",
      "source": [
        "x = np.array([0,1,2,3,4,5])#.reshape(3,2)\n",
        "y = np.array([3, 5, 7, 9, 11, 13])#.reshape(3,2)\n",
        "epochs = 1000\n",
        "\n",
        "\n",
        "history = model.fit(x, y, epochs = epochs)"
      ],
      "metadata": {
        "id": "-AS-TYB4cJlq"
      },
      "execution_count": null,
      "outputs": []
    },
    {
      "cell_type": "code",
      "source": [
        "import pandas as pd\n",
        "pd.DataFrame(history.history).plot(figsize=(10,5))\n",
        "plt.title('Beni görüyörseniz merhaba deyin :)')\n",
        "plt.show()"
      ],
      "metadata": {
        "id": "d_9pBh6WgYnE"
      },
      "execution_count": null,
      "outputs": []
    },
    {
      "cell_type": "code",
      "source": [
        "model.predict([2000]) # f(x) = 2x + 3"
      ],
      "metadata": {
        "id": "8pB0rt3U3KD4"
      },
      "execution_count": null,
      "outputs": []
    },
    {
      "cell_type": "code",
      "source": [],
      "metadata": {
        "id": "mLSXN9srpH90"
      },
      "execution_count": null,
      "outputs": []
    }
  ]
}